{
 "cells": [
  {
   "cell_type": "code",
   "execution_count": 105,
   "id": "4518c9e3",
   "metadata": {},
   "outputs": [],
   "source": [
    "#importing library\n",
    "import pandas as pd\n",
    "import pyodbc"
   ]
  },
  {
   "cell_type": "code",
   "execution_count": 106,
   "id": "91abdcae",
   "metadata": {},
   "outputs": [
    {
     "data": {
      "text/plain": [
       "['SQL Server',\n",
       " 'SQL Server Native Client 11.0',\n",
       " 'ODBC Driver 17 for SQL Server',\n",
       " 'SQL Server Native Client RDA 11.0',\n",
       " 'PostgreSQL ANSI(x64)',\n",
       " 'PostgreSQL Unicode(x64)']"
      ]
     },
     "execution_count": 106,
     "metadata": {},
     "output_type": "execute_result"
    }
   ],
   "source": [
    "pyodbc.drivers()"
   ]
  },
  {
   "cell_type": "code",
   "execution_count": 107,
   "id": "cda37418",
   "metadata": {},
   "outputs": [],
   "source": [
    "#connection to OPS Database\n",
    "conn=pyodbc.connect(\n",
    "Trusted_connected='yes',\n",
    "Driver='{SQL Server}',\n",
    "Server='LAPTOP-H2O1AJA7',\n",
    "Database='OPS'\n",
    ")\n",
    "cursor=conn.cursor()\n"
   ]
  },
  {
   "cell_type": "code",
   "execution_count": 108,
   "id": "b12616e5",
   "metadata": {},
   "outputs": [],
   "source": [
    "#read the csv file\n",
    "df=pd.read_csv('C:/Users/prave/OPS/STG_Planecrash.csv',encoding = 'ISO-8859-1')"
   ]
  },
  {
   "cell_type": "code",
   "execution_count": 109,
   "id": "55cf622f",
   "metadata": {},
   "outputs": [
    {
     "data": {
      "text/html": [
       "<div>\n",
       "<style scoped>\n",
       "    .dataframe tbody tr th:only-of-type {\n",
       "        vertical-align: middle;\n",
       "    }\n",
       "\n",
       "    .dataframe tbody tr th {\n",
       "        vertical-align: top;\n",
       "    }\n",
       "\n",
       "    .dataframe thead th {\n",
       "        text-align: right;\n",
       "    }\n",
       "</style>\n",
       "<table border=\"1\" class=\"dataframe\">\n",
       "  <thead>\n",
       "    <tr style=\"text-align: right;\">\n",
       "      <th></th>\n",
       "      <th>date</th>\n",
       "      <th>time</th>\n",
       "      <th>location</th>\n",
       "      <th>operator</th>\n",
       "      <th>flight_no</th>\n",
       "      <th>route</th>\n",
       "      <th>ac_type</th>\n",
       "      <th>registration</th>\n",
       "      <th>cn_ln</th>\n",
       "      <th>aboard</th>\n",
       "      <th>fatalities</th>\n",
       "      <th>ground</th>\n",
       "      <th>summary</th>\n",
       "    </tr>\n",
       "  </thead>\n",
       "  <tbody>\n",
       "    <tr>\n",
       "      <th>0</th>\n",
       "      <td>17-Sep-08</td>\n",
       "      <td>17:18</td>\n",
       "      <td>Fort Myer, Virginia</td>\n",
       "      <td>Military - U.S. Army</td>\n",
       "      <td>?</td>\n",
       "      <td>Demonstration</td>\n",
       "      <td>Wright Flyer III</td>\n",
       "      <td>?</td>\n",
       "      <td>1</td>\n",
       "      <td>2   (passengers:1  crew:1)</td>\n",
       "      <td>1   (passengers:1  crew:0)</td>\n",
       "      <td>0</td>\n",
       "      <td>During a demonstration flight, a U.S. Army fly...</td>\n",
       "    </tr>\n",
       "    <tr>\n",
       "      <th>1</th>\n",
       "      <td>7-Sep-09</td>\n",
       "      <td>?</td>\n",
       "      <td>Juvisy-sur-Orge, France</td>\n",
       "      <td>?</td>\n",
       "      <td>?</td>\n",
       "      <td>Air show</td>\n",
       "      <td>Wright Byplane</td>\n",
       "      <td>SC1</td>\n",
       "      <td>?</td>\n",
       "      <td>1   (passengers:0  crew:1)</td>\n",
       "      <td>1   (passengers:0  crew:0)</td>\n",
       "      <td>0</td>\n",
       "      <td>Eugene Lefebvre was the first pilot to ever be...</td>\n",
       "    </tr>\n",
       "    <tr>\n",
       "      <th>2</th>\n",
       "      <td>12-Jul-12</td>\n",
       "      <td>6:30</td>\n",
       "      <td>Atlantic City, New Jersey</td>\n",
       "      <td>Military - U.S. Navy</td>\n",
       "      <td>?</td>\n",
       "      <td>Test flight</td>\n",
       "      <td>Dirigible</td>\n",
       "      <td>?</td>\n",
       "      <td>?</td>\n",
       "      <td>5   (passengers:0  crew:5)</td>\n",
       "      <td>5   (passengers:0  crew:5)</td>\n",
       "      <td>0</td>\n",
       "      <td>First U.S. dirigible Akron exploded just offsh...</td>\n",
       "    </tr>\n",
       "    <tr>\n",
       "      <th>3</th>\n",
       "      <td>6-Aug-13</td>\n",
       "      <td>?</td>\n",
       "      <td>Victoria, British Columbia, Canada</td>\n",
       "      <td>Private</td>\n",
       "      <td>?</td>\n",
       "      <td>?</td>\n",
       "      <td>Curtiss seaplane</td>\n",
       "      <td>?</td>\n",
       "      <td>?</td>\n",
       "      <td>1   (passengers:0  crew:1)</td>\n",
       "      <td>1   (passengers:0  crew:1)</td>\n",
       "      <td>0</td>\n",
       "      <td>The first fatal airplane accident in Canada oc...</td>\n",
       "    </tr>\n",
       "    <tr>\n",
       "      <th>4</th>\n",
       "      <td>9-Sep-13</td>\n",
       "      <td>c 18:30</td>\n",
       "      <td>Over the North Sea</td>\n",
       "      <td>Military - German Navy</td>\n",
       "      <td>?</td>\n",
       "      <td>?</td>\n",
       "      <td>Zeppelin L-1 (airship)</td>\n",
       "      <td>?</td>\n",
       "      <td>?</td>\n",
       "      <td>20   (passengers:?  crew:?)</td>\n",
       "      <td>14   (passengers:?  crew:?)</td>\n",
       "      <td>0</td>\n",
       "      <td>The airship flew into a thunderstorm and encou...</td>\n",
       "    </tr>\n",
       "  </tbody>\n",
       "</table>\n",
       "</div>"
      ],
      "text/plain": [
       "        date     time                            location  \\\n",
       "0  17-Sep-08    17:18                 Fort Myer, Virginia   \n",
       "1   7-Sep-09        ?             Juvisy-sur-Orge, France   \n",
       "2  12-Jul-12     6:30           Atlantic City, New Jersey   \n",
       "3   6-Aug-13        ?  Victoria, British Columbia, Canada   \n",
       "4   9-Sep-13  c 18:30                  Over the North Sea   \n",
       "\n",
       "                 operator flight_no          route                 ac_type  \\\n",
       "0    Military - U.S. Army         ?  Demonstration        Wright Flyer III   \n",
       "1                       ?         ?       Air show          Wright Byplane   \n",
       "2    Military - U.S. Navy         ?    Test flight               Dirigible   \n",
       "3                 Private         ?              ?        Curtiss seaplane   \n",
       "4  Military - German Navy         ?              ?  Zeppelin L-1 (airship)   \n",
       "\n",
       "  registration cn_ln                       aboard  \\\n",
       "0            ?     1   2   (passengers:1  crew:1)   \n",
       "1          SC1     ?   1   (passengers:0  crew:1)   \n",
       "2            ?     ?   5   (passengers:0  crew:5)   \n",
       "3            ?     ?   1   (passengers:0  crew:1)   \n",
       "4            ?     ?  20   (passengers:?  crew:?)   \n",
       "\n",
       "                    fatalities ground  \\\n",
       "0   1   (passengers:1  crew:0)      0   \n",
       "1   1   (passengers:0  crew:0)      0   \n",
       "2   5   (passengers:0  crew:5)      0   \n",
       "3   1   (passengers:0  crew:1)      0   \n",
       "4  14   (passengers:?  crew:?)      0   \n",
       "\n",
       "                                             summary  \n",
       "0  During a demonstration flight, a U.S. Army fly...  \n",
       "1  Eugene Lefebvre was the first pilot to ever be...  \n",
       "2  First U.S. dirigible Akron exploded just offsh...  \n",
       "3  The first fatal airplane accident in Canada oc...  \n",
       "4  The airship flew into a thunderstorm and encou...  "
      ]
     },
     "execution_count": 109,
     "metadata": {},
     "output_type": "execute_result"
    }
   ],
   "source": [
    "df.head()"
   ]
  },
  {
   "cell_type": "code",
   "execution_count": 110,
   "id": "38557592",
   "metadata": {},
   "outputs": [
    {
     "data": {
      "text/plain": [
       "Index(['date', 'time', 'location', 'operator', 'flight_no', 'route', 'ac_type',\n",
       "       'registration', 'cn_ln', 'aboard', 'fatalities', 'ground', 'summary'],\n",
       "      dtype='object')"
      ]
     },
     "execution_count": 110,
     "metadata": {},
     "output_type": "execute_result"
    }
   ],
   "source": [
    "df.columns"
   ]
  },
  {
   "cell_type": "code",
   "execution_count": 111,
   "id": "0d637458",
   "metadata": {},
   "outputs": [],
   "source": [
    "#create the Table\n",
    "cursor.execute('DROP TABLE IF EXISTS [dbo].[STG_Planecrash]')\n",
    "cursor.execute('''\n",
    "\t\tCREATE TABLE STG_Planecrash (\n",
    "\t\t\tdate varchar(1000),\n",
    "\t\t\ttime varchar(1000),\n",
    "\t\t\tlocation varchar(1000),\n",
    "            operator varchar(1000),\n",
    "            flight_no varchar(1000),\n",
    "            route varchar(1000),\n",
    "            ac_type varchar(1000),\n",
    "            registration varchar(1000),\n",
    "            cn_ln varchar(1000),\n",
    "            aboard varchar(1000),\n",
    "            fatalities varchar(1000),\n",
    "            ground varchar(1000),\n",
    "            summary varchar(5000)\n",
    "\t\t\t)\n",
    "               ''')\n",
    "conn.commit()\n"
   ]
  },
  {
   "cell_type": "code",
   "execution_count": 112,
   "id": "d48e33ac",
   "metadata": {},
   "outputs": [],
   "source": [
    "#insert the table values\n",
    "for row in df.itertuples():\n",
    "    cursor.execute('''\n",
    "                insert into OPS.dbo.STG_Planecrash (date,time,location,operator,flight_no,route,ac_type,registration,cn_ln,aboard,fatalities,ground,summary)\n",
    "                values(?,?,?,?,?,?,?,?,?,?,?,?,?)\n",
    "                ''',\n",
    "                row.date,\n",
    "                row.time,\n",
    "                row.location,\n",
    "                row.operator,\n",
    "                row.flight_no,\n",
    "                row.route,\n",
    "                row.ac_type,\n",
    "                row.registration,\n",
    "                row.cn_ln,\n",
    "                row.aboard,\n",
    "                row.fatalities,\n",
    "                row.ground,\n",
    "                row.summary\n",
    "                )\n",
    "    \n",
    "    conn.commit()"
   ]
  },
  {
   "cell_type": "code",
   "execution_count": null,
   "id": "0078e326",
   "metadata": {},
   "outputs": [],
   "source": []
  }
 ],
 "metadata": {
  "kernelspec": {
   "display_name": "Python 3 (ipykernel)",
   "language": "python",
   "name": "python3"
  },
  "language_info": {
   "codemirror_mode": {
    "name": "ipython",
    "version": 3
   },
   "file_extension": ".py",
   "mimetype": "text/x-python",
   "name": "python",
   "nbconvert_exporter": "python",
   "pygments_lexer": "ipython3",
   "version": "3.8.8"
  }
 },
 "nbformat": 4,
 "nbformat_minor": 5
}
